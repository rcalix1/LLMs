{
 "cells": [
  {
   "cell_type": "markdown",
   "id": "c2ff2b7d",
   "metadata": {},
   "source": [
    "## A small ChatGPT style Transformer\n",
    "\n",
    "* concepts in NLP and Transformers\n",
    "\n",
    "* generative mdoels\n"
   ]
  },
  {
   "cell_type": "code",
   "execution_count": 1,
   "id": "89155610",
   "metadata": {},
   "outputs": [],
   "source": [
    "\n",
    "import torch\n",
    "import numpy as np\n",
    "import requests\n",
    "## import tiktoken\n",
    "import torch.nn as nn\n",
    "\n",
    "from torch.nn import functional as F\n",
    "\n"
   ]
  },
  {
   "cell_type": "code",
   "execution_count": 2,
   "id": "578bdd31",
   "metadata": {},
   "outputs": [],
   "source": [
    "## !pip install requests\n",
    "## !pip install tiktoken    ## requires python   >    3.9"
   ]
  },
  {
   "cell_type": "code",
   "execution_count": 3,
   "id": "5714c169",
   "metadata": {},
   "outputs": [
    {
     "data": {
      "text/plain": [
       "<torch._C.Generator at 0x7fd2c216b050>"
      ]
     },
     "execution_count": 3,
     "metadata": {},
     "output_type": "execute_result"
    }
   ],
   "source": [
    "\n",
    "torch.manual_seed(1337)\n"
   ]
  },
  {
   "cell_type": "code",
   "execution_count": 4,
   "id": "cc317231",
   "metadata": {},
   "outputs": [],
   "source": [
    "\n",
    "block_size = 8   ## max content length for predictions\n",
    "batch_size = 4 \n"
   ]
  },
  {
   "cell_type": "code",
   "execution_count": 5,
   "id": "afede362",
   "metadata": {},
   "outputs": [],
   "source": [
    "\n",
    "input_file_path = 'input.txt'\n",
    "\n",
    "\n",
    "data_url = 'https://raw.githubusercontent.com/karpathy/char-rnn/master/data/tinyshakespeare/input.txt'\n",
    "\n",
    "with open(input_file_path, 'w') as f:\n",
    "        f.write(requests.get(data_url).text)\n",
    "        "
   ]
  },
  {
   "cell_type": "code",
   "execution_count": 6,
   "id": "f910e52f",
   "metadata": {},
   "outputs": [],
   "source": [
    "\n",
    "with open(input_file_path, 'r') as f:\n",
    "    text = f.read()\n",
    "    \n",
    "\n"
   ]
  },
  {
   "cell_type": "code",
   "execution_count": 7,
   "id": "f17b93af",
   "metadata": {},
   "outputs": [
    {
     "name": "stdout",
     "output_type": "stream",
     "text": [
      "length of data in characters\n"
     ]
    },
    {
     "data": {
      "text/plain": [
       "1115394"
      ]
     },
     "execution_count": 7,
     "metadata": {},
     "output_type": "execute_result"
    }
   ],
   "source": [
    "print(\"length of data in characters\")\n",
    "len(text)"
   ]
  },
  {
   "cell_type": "code",
   "execution_count": 8,
   "id": "0a46e9a1",
   "metadata": {},
   "outputs": [],
   "source": [
    "## n = len(data)\n"
   ]
  },
  {
   "cell_type": "code",
   "execution_count": 9,
   "id": "37a92a66",
   "metadata": {},
   "outputs": [
    {
     "name": "stdout",
     "output_type": "stream",
     "text": [
      "First Citizen:\n",
      "Before we proceed any further, hear me speak.\n",
      "\n",
      "All:\n",
      "Speak, speak.\n",
      "\n",
      "First Citizen:\n",
      "You are all resolved rather to die than to famish?\n",
      "\n",
      "All:\n",
      "Resolved. resolved.\n",
      "\n",
      "First Citizen:\n",
      "First, you know Caius Marcius is chief enemy to the people.\n",
      "\n",
      "All:\n",
      "We know't, we know't.\n",
      "\n",
      "First Citizen:\n",
      "Let us kill him, and we'll have corn at our own price.\n",
      "Is't a verdict?\n",
      "\n",
      "All:\n",
      "No more talking on't; let it be done: away, away!\n",
      "\n",
      "Second Citizen:\n",
      "One word, good citizens.\n",
      "\n",
      "First Citizen:\n",
      "We are accounted poor citizens, the patricians good.\n",
      "What authority surfeits on would relieve us: if they\n",
      "would yield us but the superfluity, while it were\n",
      "wholesome, we might guess they relieved us humanely;\n",
      "but they think we are too dear: the leanness that\n",
      "afflicts us, the object of our misery, is as an\n",
      "inventory to particularise their abundance; our\n",
      "sufferance is a gain to them Let us revenge this with\n",
      "our pikes, ere we become rakes: for the gods know I\n",
      "speak this in hunger for bread, not in thirst for revenge.\n",
      "\n",
      "\n"
     ]
    }
   ],
   "source": [
    "print(  text[:1000]   )"
   ]
  },
  {
   "cell_type": "markdown",
   "id": "d285ba96",
   "metadata": {},
   "source": [
    "\n",
    "## get list of unique characters\n"
   ]
  },
  {
   "cell_type": "code",
   "execution_count": 10,
   "id": "dd986859",
   "metadata": {},
   "outputs": [
    {
     "data": {
      "text/plain": [
       "['\\n',\n",
       " ' ',\n",
       " '!',\n",
       " '$',\n",
       " '&',\n",
       " \"'\",\n",
       " ',',\n",
       " '-',\n",
       " '.',\n",
       " '3',\n",
       " ':',\n",
       " ';',\n",
       " '?',\n",
       " 'A',\n",
       " 'B',\n",
       " 'C',\n",
       " 'D',\n",
       " 'E',\n",
       " 'F',\n",
       " 'G',\n",
       " 'H',\n",
       " 'I',\n",
       " 'J',\n",
       " 'K',\n",
       " 'L',\n",
       " 'M',\n",
       " 'N',\n",
       " 'O',\n",
       " 'P',\n",
       " 'Q',\n",
       " 'R',\n",
       " 'S',\n",
       " 'T',\n",
       " 'U',\n",
       " 'V',\n",
       " 'W',\n",
       " 'X',\n",
       " 'Y',\n",
       " 'Z',\n",
       " 'a',\n",
       " 'b',\n",
       " 'c',\n",
       " 'd',\n",
       " 'e',\n",
       " 'f',\n",
       " 'g',\n",
       " 'h',\n",
       " 'i',\n",
       " 'j',\n",
       " 'k',\n",
       " 'l',\n",
       " 'm',\n",
       " 'n',\n",
       " 'o',\n",
       " 'p',\n",
       " 'q',\n",
       " 'r',\n",
       " 's',\n",
       " 't',\n",
       " 'u',\n",
       " 'v',\n",
       " 'w',\n",
       " 'x',\n",
       " 'y',\n",
       " 'z']"
      ]
     },
     "execution_count": 10,
     "metadata": {},
     "output_type": "execute_result"
    }
   ],
   "source": [
    "\n",
    "chars = sorted(     list(set(text))   )\n",
    "chars\n"
   ]
  },
  {
   "cell_type": "code",
   "execution_count": 11,
   "id": "2abf83de",
   "metadata": {},
   "outputs": [
    {
     "data": {
      "text/plain": [
       "65"
      ]
     },
     "execution_count": 11,
     "metadata": {},
     "output_type": "execute_result"
    }
   ],
   "source": [
    "\n",
    "vocab_size = len(chars)\n",
    "vocab_size \n"
   ]
  },
  {
   "cell_type": "code",
   "execution_count": 12,
   "id": "191425f0",
   "metadata": {},
   "outputs": [
    {
     "name": "stdout",
     "output_type": "stream",
     "text": [
      "\n",
      " !$&',-.3:;?ABCDEFGHIJKLMNOPQRSTUVWXYZabcdefghijklmnopqrstuvwxyz\n"
     ]
    }
   ],
   "source": [
    "\n",
    "print(  ''.join(chars)  )\n"
   ]
  },
  {
   "cell_type": "markdown",
   "id": "7bbc60cf",
   "metadata": {},
   "source": [
    "## tokenizer\n",
    "\n",
    "create a mapping from characters to integers\n",
    "\n",
    "* other better options are tiptoken and SentencePiece\n"
   ]
  },
  {
   "cell_type": "code",
   "execution_count": 13,
   "id": "e668d349",
   "metadata": {},
   "outputs": [],
   "source": [
    "\n",
    "stoi = { ch:i for i, ch in enumerate(chars) }\n",
    "itos = { i:ch for i, ch in enumerate(chars) }\n",
    "\n",
    "encode = lambda s: [ stoi[c]          for c in s   ]    ## encoder: string to integer\n",
    "decode = lambda l: ''.join(   itos[i] for i in l   )    ## decoder: interger to string\n"
   ]
  },
  {
   "cell_type": "markdown",
   "id": "e530acf0",
   "metadata": {},
   "source": [
    "## Encode and decode"
   ]
  },
  {
   "cell_type": "code",
   "execution_count": 14,
   "id": "5c2ea7f1",
   "metadata": {},
   "outputs": [
    {
     "name": "stdout",
     "output_type": "stream",
     "text": [
      "[46, 47, 47, 1, 58, 46, 43, 56, 43]\n"
     ]
    }
   ],
   "source": [
    "\n",
    "print(   encode(\"hii there\")    )\n"
   ]
  },
  {
   "cell_type": "code",
   "execution_count": 15,
   "id": "601fb1ba",
   "metadata": {},
   "outputs": [
    {
     "name": "stdout",
     "output_type": "stream",
     "text": [
      "hii there\n"
     ]
    }
   ],
   "source": [
    "\n",
    "print(   decode(   encode(\"hii there\")  )   )\n"
   ]
  },
  {
   "cell_type": "markdown",
   "id": "730ed22f",
   "metadata": {},
   "source": [
    "\n",
    "## Encode the text\n"
   ]
  },
  {
   "cell_type": "code",
   "execution_count": 16,
   "id": "94239055",
   "metadata": {},
   "outputs": [
    {
     "name": "stdout",
     "output_type": "stream",
     "text": [
      "torch.Size([1115394]) <built-in method type of Tensor object at 0x7fd278037470>\n"
     ]
    }
   ],
   "source": [
    "\n",
    "data = torch.tensor(   encode(text), dtype=torch.long   )\n",
    "print(data.shape, data.type)\n"
   ]
  },
  {
   "cell_type": "code",
   "execution_count": 17,
   "id": "7c60ac98",
   "metadata": {},
   "outputs": [
    {
     "data": {
      "text/plain": [
       "tensor([18, 47, 56,  ..., 45,  8,  0])"
      ]
     },
     "execution_count": 17,
     "metadata": {},
     "output_type": "execute_result"
    }
   ],
   "source": [
    "data"
   ]
  },
  {
   "cell_type": "code",
   "execution_count": 18,
   "id": "d298da7e",
   "metadata": {},
   "outputs": [
    {
     "name": "stdout",
     "output_type": "stream",
     "text": [
      "tensor([18, 47, 56, 57, 58,  1, 15, 47, 58, 47, 64, 43, 52, 10,  0, 14, 43, 44,\n",
      "        53, 56, 43,  1, 61, 43,  1, 54, 56, 53, 41, 43, 43, 42,  1, 39, 52, 63,\n",
      "         1, 44, 59, 56, 58, 46, 43, 56,  6,  1, 46, 43, 39, 56,  1, 51, 43,  1,\n",
      "        57, 54, 43, 39, 49,  8,  0,  0, 13, 50, 50, 10,  0, 31, 54, 43, 39, 49,\n",
      "         6,  1, 57, 54, 43, 39, 49,  8,  0,  0, 18, 47, 56, 57, 58,  1, 15, 47,\n",
      "        58, 47, 64, 43, 52, 10,  0, 37, 53, 59,  1, 39, 56, 43,  1, 39, 50, 50,\n",
      "         1, 56, 43, 57, 53, 50, 60, 43, 42,  1, 56, 39, 58, 46, 43, 56,  1, 58,\n",
      "        53,  1, 42, 47, 43,  1, 58, 46, 39, 52,  1, 58, 53,  1, 44, 39, 51, 47,\n",
      "        57, 46, 12,  0,  0, 13, 50, 50, 10,  0, 30, 43, 57, 53, 50, 60, 43, 42,\n",
      "         8,  1, 56, 43, 57, 53, 50, 60, 43, 42,  8,  0,  0, 18, 47, 56, 57, 58,\n",
      "         1, 15, 47, 58, 47, 64, 43, 52, 10,  0, 18, 47, 56, 57, 58,  6,  1, 63,\n",
      "        53, 59,  1, 49, 52, 53, 61,  1, 15, 39, 47, 59, 57,  1, 25, 39, 56, 41,\n",
      "        47, 59, 57,  1, 47, 57,  1, 41, 46, 47, 43, 44,  1, 43, 52, 43, 51, 63,\n",
      "         1, 58, 53,  1, 58, 46, 43,  1, 54, 43, 53, 54, 50, 43,  8,  0,  0, 13,\n",
      "        50, 50, 10,  0, 35, 43,  1, 49, 52, 53, 61,  5, 58,  6,  1, 61, 43,  1,\n",
      "        49, 52, 53, 61,  5, 58,  8,  0,  0, 18, 47, 56, 57, 58,  1, 15, 47, 58,\n",
      "        47, 64, 43, 52, 10,  0, 24, 43, 58,  1, 59, 57,  1, 49, 47, 50, 50,  1,\n",
      "        46, 47, 51,  6,  1, 39, 52, 42,  1, 61, 43,  5, 50, 50,  1, 46, 39, 60,\n",
      "        43,  1, 41, 53, 56, 52,  1, 39, 58,  1, 53, 59, 56,  1, 53, 61, 52,  1,\n",
      "        54, 56, 47, 41, 43,  8,  0, 21, 57,  5, 58,  1, 39,  1, 60, 43, 56, 42,\n",
      "        47, 41, 58, 12,  0,  0, 13, 50, 50, 10,  0, 26, 53,  1, 51, 53, 56, 43,\n",
      "         1, 58, 39, 50, 49, 47, 52, 45,  1, 53, 52,  5, 58, 11,  1, 50, 43, 58,\n",
      "         1, 47, 58,  1, 40, 43,  1, 42, 53, 52, 43, 10,  1, 39, 61, 39, 63,  6,\n",
      "         1, 39, 61, 39, 63,  2,  0,  0, 31, 43, 41, 53, 52, 42,  1, 15, 47, 58,\n",
      "        47, 64, 43, 52, 10,  0, 27, 52, 43,  1, 61, 53, 56, 42,  6,  1, 45, 53,\n",
      "        53, 42,  1, 41, 47, 58, 47, 64, 43, 52, 57,  8,  0,  0, 18, 47, 56, 57,\n",
      "        58,  1, 15, 47, 58, 47, 64, 43, 52, 10,  0, 35, 43,  1, 39, 56, 43,  1,\n",
      "        39, 41, 41, 53, 59, 52, 58, 43, 42,  1, 54, 53, 53, 56,  1, 41, 47, 58,\n",
      "        47, 64, 43, 52, 57,  6,  1, 58, 46, 43,  1, 54, 39, 58, 56, 47, 41, 47,\n",
      "        39, 52, 57,  1, 45, 53, 53, 42,  8,  0, 35, 46, 39, 58,  1, 39, 59, 58,\n",
      "        46, 53, 56, 47, 58, 63,  1, 57, 59, 56, 44, 43, 47, 58, 57,  1, 53, 52,\n",
      "         1, 61, 53, 59, 50, 42,  1, 56, 43, 50, 47, 43, 60, 43,  1, 59, 57, 10,\n",
      "         1, 47, 44,  1, 58, 46, 43, 63,  0, 61, 53, 59, 50, 42,  1, 63, 47, 43,\n",
      "        50, 42,  1, 59, 57,  1, 40, 59, 58,  1, 58, 46, 43,  1, 57, 59, 54, 43,\n",
      "        56, 44, 50, 59, 47, 58, 63,  6,  1, 61, 46, 47, 50, 43,  1, 47, 58,  1,\n",
      "        61, 43, 56, 43,  0, 61, 46, 53, 50, 43, 57, 53, 51, 43,  6,  1, 61, 43,\n",
      "         1, 51, 47, 45, 46, 58,  1, 45, 59, 43, 57, 57,  1, 58, 46, 43, 63,  1,\n",
      "        56, 43, 50, 47, 43, 60, 43, 42,  1, 59, 57,  1, 46, 59, 51, 39, 52, 43,\n",
      "        50, 63, 11,  0, 40, 59, 58,  1, 58, 46, 43, 63,  1, 58, 46, 47, 52, 49,\n",
      "         1, 61, 43,  1, 39, 56, 43,  1, 58, 53, 53,  1, 42, 43, 39, 56, 10,  1,\n",
      "        58, 46, 43,  1, 50, 43, 39, 52, 52, 43, 57, 57,  1, 58, 46, 39, 58,  0,\n",
      "        39, 44, 44, 50, 47, 41, 58, 57,  1, 59, 57,  6,  1, 58, 46, 43,  1, 53,\n",
      "        40, 48, 43, 41, 58,  1, 53, 44,  1, 53, 59, 56,  1, 51, 47, 57, 43, 56,\n",
      "        63,  6,  1, 47, 57,  1, 39, 57,  1, 39, 52,  0, 47, 52, 60, 43, 52, 58,\n",
      "        53, 56, 63,  1, 58, 53,  1, 54, 39, 56, 58, 47, 41, 59, 50, 39, 56, 47,\n",
      "        57, 43,  1, 58, 46, 43, 47, 56,  1, 39, 40, 59, 52, 42, 39, 52, 41, 43,\n",
      "        11,  1, 53, 59, 56,  0, 57, 59, 44, 44, 43, 56, 39, 52, 41, 43,  1, 47,\n",
      "        57,  1, 39,  1, 45, 39, 47, 52,  1, 58, 53,  1, 58, 46, 43, 51,  1, 24,\n",
      "        43, 58,  1, 59, 57,  1, 56, 43, 60, 43, 52, 45, 43,  1, 58, 46, 47, 57,\n",
      "         1, 61, 47, 58, 46,  0, 53, 59, 56,  1, 54, 47, 49, 43, 57,  6,  1, 43,\n",
      "        56, 43,  1, 61, 43,  1, 40, 43, 41, 53, 51, 43,  1, 56, 39, 49, 43, 57,\n",
      "        10,  1, 44, 53, 56,  1, 58, 46, 43,  1, 45, 53, 42, 57,  1, 49, 52, 53,\n",
      "        61,  1, 21,  0, 57, 54, 43, 39, 49,  1, 58, 46, 47, 57,  1, 47, 52,  1,\n",
      "        46, 59, 52, 45, 43, 56,  1, 44, 53, 56,  1, 40, 56, 43, 39, 42,  6,  1,\n",
      "        52, 53, 58,  1, 47, 52,  1, 58, 46, 47, 56, 57, 58,  1, 44, 53, 56,  1,\n",
      "        56, 43, 60, 43, 52, 45, 43,  8,  0,  0])\n"
     ]
    }
   ],
   "source": [
    "print(   data[:1000]   )"
   ]
  },
  {
   "cell_type": "markdown",
   "id": "2742f711",
   "metadata": {},
   "source": [
    "\n",
    "## Train and test split\n"
   ]
  },
  {
   "cell_type": "code",
   "execution_count": 19,
   "id": "d68de402",
   "metadata": {},
   "outputs": [
    {
     "data": {
      "text/plain": [
       "1003854"
      ]
     },
     "execution_count": 19,
     "metadata": {},
     "output_type": "execute_result"
    }
   ],
   "source": [
    "\n",
    "n = int(   0.9*len(data)   )\n",
    "n\n"
   ]
  },
  {
   "cell_type": "code",
   "execution_count": 20,
   "id": "badfff9e",
   "metadata": {},
   "outputs": [],
   "source": [
    "\n",
    "train_data = data[:n]\n",
    "val_data   = data[n:]\n"
   ]
  },
  {
   "cell_type": "markdown",
   "id": "904e1399",
   "metadata": {},
   "source": [
    "\n",
    "## sample random chunks of block size\n"
   ]
  },
  {
   "cell_type": "code",
   "execution_count": 21,
   "id": "e96f82c8",
   "metadata": {},
   "outputs": [
    {
     "data": {
      "text/plain": [
       "tensor([18, 47, 56, 57, 58,  1, 15, 47, 58])"
      ]
     },
     "execution_count": 21,
     "metadata": {},
     "output_type": "execute_result"
    }
   ],
   "source": [
    "\n",
    "train_data[:block_size+1]\n"
   ]
  },
  {
   "cell_type": "markdown",
   "id": "77dea9f6",
   "metadata": {},
   "source": [
    "\n",
    "## offset by one\n"
   ]
  },
  {
   "cell_type": "code",
   "execution_count": 22,
   "id": "98f0bc29",
   "metadata": {},
   "outputs": [],
   "source": [
    "\n",
    "x = train_data[:block_size]\n",
    "y = train_data[1:block_size+1]\n"
   ]
  },
  {
   "cell_type": "code",
   "execution_count": 23,
   "id": "c2c604a2",
   "metadata": {},
   "outputs": [
    {
     "data": {
      "text/plain": [
       "tensor([18, 47, 56, 57, 58,  1, 15, 47])"
      ]
     },
     "execution_count": 23,
     "metadata": {},
     "output_type": "execute_result"
    }
   ],
   "source": [
    "x"
   ]
  },
  {
   "cell_type": "code",
   "execution_count": 24,
   "id": "2756f1b3",
   "metadata": {},
   "outputs": [
    {
     "data": {
      "text/plain": [
       "tensor([47, 56, 57, 58,  1, 15, 47, 58])"
      ]
     },
     "execution_count": 24,
     "metadata": {},
     "output_type": "execute_result"
    }
   ],
   "source": [
    "y"
   ]
  },
  {
   "cell_type": "code",
   "execution_count": 25,
   "id": "1c6e754a",
   "metadata": {},
   "outputs": [
    {
     "name": "stdout",
     "output_type": "stream",
     "text": [
      "when input is tensor([18]) then the target is: 47\n",
      "when input is tensor([18, 47]) then the target is: 56\n",
      "when input is tensor([18, 47, 56]) then the target is: 57\n",
      "when input is tensor([18, 47, 56, 57]) then the target is: 58\n",
      "when input is tensor([18, 47, 56, 57, 58]) then the target is: 1\n",
      "when input is tensor([18, 47, 56, 57, 58,  1]) then the target is: 15\n",
      "when input is tensor([18, 47, 56, 57, 58,  1, 15]) then the target is: 47\n",
      "when input is tensor([18, 47, 56, 57, 58,  1, 15, 47]) then the target is: 58\n"
     ]
    }
   ],
   "source": [
    "\n",
    "for t in range(block_size):\n",
    "    context = x[: t+1]\n",
    "    target  = y[t]\n",
    "    print(f\"when input is {context} then the target is: {target}\")\n"
   ]
  },
  {
   "cell_type": "markdown",
   "id": "acec95c2",
   "metadata": {},
   "source": [
    "\n",
    "## batch processing\n"
   ]
  },
  {
   "cell_type": "code",
   "execution_count": 26,
   "id": "54d70001",
   "metadata": {},
   "outputs": [
    {
     "data": {
      "text/plain": [
       "1115394"
      ]
     },
     "execution_count": 26,
     "metadata": {},
     "output_type": "execute_result"
    }
   ],
   "source": [
    "len(data)"
   ]
  },
  {
   "cell_type": "code",
   "execution_count": 27,
   "id": "476c41ee",
   "metadata": {},
   "outputs": [
    {
     "data": {
      "text/plain": [
       "8"
      ]
     },
     "execution_count": 27,
     "metadata": {},
     "output_type": "execute_result"
    }
   ],
   "source": [
    "block_size"
   ]
  },
  {
   "cell_type": "code",
   "execution_count": 28,
   "id": "74903514",
   "metadata": {},
   "outputs": [
    {
     "data": {
      "text/plain": [
       "1115386"
      ]
     },
     "execution_count": 28,
     "metadata": {},
     "output_type": "execute_result"
    }
   ],
   "source": [
    "len(data) - block_size"
   ]
  },
  {
   "cell_type": "code",
   "execution_count": 29,
   "id": "9b811c44",
   "metadata": {},
   "outputs": [
    {
     "data": {
      "text/plain": [
       "(4,)"
      ]
     },
     "execution_count": 29,
     "metadata": {},
     "output_type": "execute_result"
    }
   ],
   "source": [
    "(batch_size,) "
   ]
  },
  {
   "cell_type": "code",
   "execution_count": 30,
   "id": "9474fbfc",
   "metadata": {},
   "outputs": [
    {
     "data": {
      "text/plain": [
       "tensor([1078327,  453969,   41646,  671252])"
      ]
     },
     "execution_count": 30,
     "metadata": {},
     "output_type": "execute_result"
    }
   ],
   "source": [
    "ix = torch.randint(   len(data) - block_size, (batch_size,)   )\n",
    "ix"
   ]
  },
  {
   "cell_type": "markdown",
   "id": "37dacb65",
   "metadata": {},
   "source": [
    "\n",
    "## Randomly sample batch size (e.g. 4) ids and get the next block_size ids (e.g. 7) for each respectively\n"
   ]
  },
  {
   "cell_type": "code",
   "execution_count": 31,
   "id": "a390bcc3",
   "metadata": {},
   "outputs": [],
   "source": [
    "\n",
    "def get_batch(split):\n",
    "    if split == \"train\":\n",
    "        data = train_data\n",
    "    else:\n",
    "        data = val_data\n",
    "    ix = torch.randint(   len(data) - block_size, (batch_size,)   )\n",
    "    x  = torch.stack(    [  data[ i : i+block_size ]   for i in ix]    ) \n",
    "    y  = torch.stack(    [  data[ i+1 : i+1+block_size ]   for i in ix]    )\n",
    "    \n",
    "    return x, y\n"
   ]
  },
  {
   "cell_type": "code",
   "execution_count": 32,
   "id": "5bb92734",
   "metadata": {},
   "outputs": [],
   "source": [
    "\n",
    "xb, yb = get_batch(\"train\")\n"
   ]
  },
  {
   "cell_type": "code",
   "execution_count": 33,
   "id": "bed46f03",
   "metadata": {},
   "outputs": [
    {
     "data": {
      "text/plain": [
       "tensor([[57, 43, 60, 43, 52,  1, 63, 43],\n",
       "        [60, 43, 42,  8,  0, 25, 63,  1],\n",
       "        [56, 42,  5, 57,  1, 57, 39, 49],\n",
       "        [43, 57, 58, 63,  6,  1, 58, 46]])"
      ]
     },
     "execution_count": 33,
     "metadata": {},
     "output_type": "execute_result"
    }
   ],
   "source": [
    "xb"
   ]
  },
  {
   "cell_type": "code",
   "execution_count": 34,
   "id": "785ccc4c",
   "metadata": {},
   "outputs": [
    {
     "data": {
      "text/plain": [
       "tensor([[43, 60, 43, 52,  1, 63, 43, 39],\n",
       "        [43, 42,  8,  0, 25, 63,  1, 45],\n",
       "        [42,  5, 57,  1, 57, 39, 49, 43],\n",
       "        [57, 58, 63,  6,  1, 58, 46, 47]])"
      ]
     },
     "execution_count": 34,
     "metadata": {},
     "output_type": "execute_result"
    }
   ],
   "source": [
    "yb"
   ]
  },
  {
   "cell_type": "code",
   "execution_count": 35,
   "id": "4cd7e0d3",
   "metadata": {},
   "outputs": [
    {
     "name": "stdout",
     "output_type": "stream",
     "text": [
      "when input is [57] the target is: 43\n",
      "when input is [57, 43] the target is: 60\n",
      "when input is [57, 43, 60] the target is: 43\n",
      "when input is [57, 43, 60, 43] the target is: 52\n",
      "when input is [57, 43, 60, 43, 52] the target is: 1\n",
      "when input is [57, 43, 60, 43, 52, 1] the target is: 63\n",
      "when input is [57, 43, 60, 43, 52, 1, 63] the target is: 43\n",
      "when input is [57, 43, 60, 43, 52, 1, 63, 43] the target is: 39\n",
      "when input is [60] the target is: 43\n",
      "when input is [60, 43] the target is: 42\n",
      "when input is [60, 43, 42] the target is: 8\n",
      "when input is [60, 43, 42, 8] the target is: 0\n",
      "when input is [60, 43, 42, 8, 0] the target is: 25\n",
      "when input is [60, 43, 42, 8, 0, 25] the target is: 63\n",
      "when input is [60, 43, 42, 8, 0, 25, 63] the target is: 1\n",
      "when input is [60, 43, 42, 8, 0, 25, 63, 1] the target is: 45\n",
      "when input is [56] the target is: 42\n",
      "when input is [56, 42] the target is: 5\n",
      "when input is [56, 42, 5] the target is: 57\n",
      "when input is [56, 42, 5, 57] the target is: 1\n",
      "when input is [56, 42, 5, 57, 1] the target is: 57\n",
      "when input is [56, 42, 5, 57, 1, 57] the target is: 39\n",
      "when input is [56, 42, 5, 57, 1, 57, 39] the target is: 49\n",
      "when input is [56, 42, 5, 57, 1, 57, 39, 49] the target is: 43\n",
      "when input is [43] the target is: 57\n",
      "when input is [43, 57] the target is: 58\n",
      "when input is [43, 57, 58] the target is: 63\n",
      "when input is [43, 57, 58, 63] the target is: 6\n",
      "when input is [43, 57, 58, 63, 6] the target is: 1\n",
      "when input is [43, 57, 58, 63, 6, 1] the target is: 58\n",
      "when input is [43, 57, 58, 63, 6, 1, 58] the target is: 46\n",
      "when input is [43, 57, 58, 63, 6, 1, 58, 46] the target is: 47\n"
     ]
    }
   ],
   "source": [
    "\n",
    "for b in range(batch_size):         \n",
    "    for t in range(block_size):\n",
    "        context = xb[b, :t+1]\n",
    "        target  = yb[b, t]\n",
    "        print(f\"when input is {context.tolist()} the target is: {target}\")\n"
   ]
  },
  {
   "cell_type": "markdown",
   "id": "ee7e1a51",
   "metadata": {},
   "source": [
    "\n",
    "## Bi-gram model\n"
   ]
  },
  {
   "cell_type": "code",
   "execution_count": 36,
   "id": "6ebed448",
   "metadata": {},
   "outputs": [],
   "source": [
    "\n",
    "class BigramLanguageModel(nn.Module):\n",
    "    \n",
    "    def __init__(self, vocab_size):\n",
    "        super().__init__()\n",
    "        self.token_embedding_table = nn.Embedding(vocab_size, vocab_size)\n",
    "    \n",
    "    def forward(self, idx, targets=None):\n",
    "        \n",
    "        logits = self.token_embedding_table(idx)      ## batch, time, vocab_size (4, 8, 65)\n",
    "        \n",
    "        if targets is None:\n",
    "            loss = None\n",
    "        else:\n",
    "            B, T, C = logits.shape\n",
    "            logits  = logits.view(B*T, C)\n",
    "            targets  = targets.view(B*T)\n",
    "            loss   = F.cross_entropy(logits, targets)\n",
    "        \n",
    "        return logits, loss\n",
    "    \n",
    "    def generate(self, idx, max_new_tokens):\n",
    "        \n",
    "        ## idx is (B, T) array of indices in the current context\n",
    "        for _ in range(max_new_tokens):\n",
    "            \n",
    "            logits, loss = self(idx)\n",
    "            ## focus only on last time stamp\n",
    "            logits = logits[:, -1, :]           ## becomes (B, C)\n",
    "            probs = F.softmax(logits, dim= -1)    ## (B, C)\n",
    "            idx_next = torch.multinomial(probs, num_samples=1)     ## (B, 1)\n",
    "            ## append sample to the running sequence\n",
    "            idx = torch.cat(  (idx, idx_next), dim=1  )            ## (B, T+1)\n",
    "        return idx\n",
    "            \n",
    "            \n",
    "            \n",
    "            "
   ]
  },
  {
   "cell_type": "code",
   "execution_count": 37,
   "id": "1cd020a6",
   "metadata": {},
   "outputs": [
    {
     "name": "stdout",
     "output_type": "stream",
     "text": [
      "torch.Size([32, 65])\n"
     ]
    }
   ],
   "source": [
    "\n",
    "m   = BigramLanguageModel(vocab_size)\n",
    "\n",
    "logits, loss = m(xb, yb)\n",
    "\n",
    "print(logits.shape)\n",
    "\n"
   ]
  },
  {
   "cell_type": "code",
   "execution_count": 38,
   "id": "ef0f145f",
   "metadata": {},
   "outputs": [
    {
     "name": "stdout",
     "output_type": "stream",
     "text": [
      "tensor(4.8549, grad_fn=<NllLossBackward0>)\n"
     ]
    }
   ],
   "source": [
    "print(loss)"
   ]
  },
  {
   "cell_type": "code",
   "execution_count": 39,
   "id": "5577dd40",
   "metadata": {},
   "outputs": [
    {
     "data": {
      "text/plain": [
       "tensor([[ 1.1564, -0.7436, -0.3880,  ...,  0.9058,  0.5203,  0.3977],\n",
       "        [-0.8341, -1.2283, -1.3155,  ..., -2.2339, -1.4059,  1.2754],\n",
       "        [ 2.7071,  0.7921,  0.9866,  ...,  0.0660,  0.3611, -0.1090],\n",
       "        ...,\n",
       "        [-1.9560, -0.8003, -0.5045,  ..., -1.5630,  1.1346, -0.0824],\n",
       "        [-0.2622,  1.7675, -0.6312,  ...,  0.3641, -0.8859, -0.6271],\n",
       "        [-0.3642, -0.1543, -1.1895,  ..., -0.1503, -0.1571, -0.4342]],\n",
       "       grad_fn=<ViewBackward0>)"
      ]
     },
     "execution_count": 39,
     "metadata": {},
     "output_type": "execute_result"
    }
   ],
   "source": [
    "logits"
   ]
  },
  {
   "cell_type": "markdown",
   "id": "55855ab7",
   "metadata": {},
   "source": [
    "\n",
    "## Now generate random text before training the BiGram model\n"
   ]
  },
  {
   "cell_type": "code",
   "execution_count": 40,
   "id": "2344c9f3",
   "metadata": {},
   "outputs": [
    {
     "name": "stdout",
     "output_type": "stream",
     "text": [
      "\n",
      "VMPFsPHSYAHIkPXroxdH.ACNM?''sBym,SG?Um-FhLZkRNsg$PrIPyXMDqA'XH.VsaT.fKxhQCWWsjkHMhsRSUaN$j?WTcK3MHMF\n"
     ]
    }
   ],
   "source": [
    "\n",
    "## Kick off generation with some starting token. In this case id 0\n",
    "\n",
    "idx = torch.zeros(  (1, 1),  dtype=torch.long   )\n",
    "\n",
    "gen_text = m.generate(idx, max_new_tokens=100)[0].tolist()\n",
    "\n",
    "print(  decode(gen_text)  )\n"
   ]
  },
  {
   "cell_type": "markdown",
   "id": "7bf20845",
   "metadata": {},
   "source": [
    "\n",
    "## Training and Optimization\n"
   ]
  },
  {
   "cell_type": "code",
   "execution_count": 41,
   "id": "d0d9b05b",
   "metadata": {},
   "outputs": [],
   "source": [
    "\n",
    "optimizer = torch.optim.Adam(  m.parameters(), lr=1e-3   )\n"
   ]
  },
  {
   "cell_type": "code",
   "execution_count": 42,
   "id": "c6409c6f",
   "metadata": {},
   "outputs": [
    {
     "name": "stdout",
     "output_type": "stream",
     "text": [
      "4.757808685302734\n",
      "3.7833778858184814\n",
      "3.201312303543091\n",
      "2.9419002532958984\n",
      "2.7246687412261963\n",
      "2.4351015090942383\n",
      "2.4883556365966797\n",
      "2.511401891708374\n",
      "2.4464640617370605\n",
      "2.4443509578704834\n"
     ]
    }
   ],
   "source": [
    "\n",
    "batch_size = 32\n",
    "\n",
    "for step in range(10000):\n",
    "    xb, yb = get_batch('train')\n",
    "    \n",
    "    ## evaluate the loss\n",
    "    logits, loss = m(xb, yb)\n",
    "    optimizer.zero_grad(set_to_none=True)   ## zero out\n",
    "    loss.backward()\n",
    "    optimizer.step()\n",
    "    \n",
    "    if step % 1000 == 0:\n",
    "        print(loss.item())\n"
   ]
  },
  {
   "cell_type": "markdown",
   "id": "c84c4f06",
   "metadata": {},
   "source": [
    "## now, regenerate after some training"
   ]
  },
  {
   "cell_type": "code",
   "execution_count": 43,
   "id": "faf56196",
   "metadata": {},
   "outputs": [
    {
     "name": "stdout",
     "output_type": "stream",
     "text": [
      "\n",
      "hot spit r\n",
      "DWher, mbeicou tis, iss, be atnoorerst, byou,\n",
      "\n",
      "G t to thealourds shal-wndy, Gor mangasosced, s r ghoshaveeavHer toiknor cou bomithemiutho lelor or s.\n",
      "INourdito my theais tervet thiule d har s h s? o hee,\n",
      "A minoverqube wisuby le tonda apawakseey,'s jestw?\n",
      "Yor, shang I benan thiscouom four\n",
      "LUShathrithendat, Le' vie p'r ttr mbes tir theny s wa ERINI son s aterondes orim ag t cers grthat g t.\n",
      "FozNI ainouriau makes;\n",
      "Cors fis d hengspleatan JOLEYo goforsutouterens be this y s tawethe se st:\n"
     ]
    }
   ],
   "source": [
    "\n",
    "## Kick off generation with some starting token. In this case id 0\n",
    "\n",
    "idx = torch.zeros(  (1, 1),  dtype=torch.long   )\n",
    "\n",
    "gen_text = m.generate(idx, max_new_tokens=500)[0].tolist()\n",
    "\n",
    "print(  decode(gen_text)  )\n"
   ]
  },
  {
   "cell_type": "markdown",
   "id": "78bbf8e5",
   "metadata": {},
   "source": [
    "\n",
    "## The Mathematical Trick in Self-Attention\n"
   ]
  },
  {
   "cell_type": "code",
   "execution_count": 44,
   "id": "251aec98",
   "metadata": {},
   "outputs": [
    {
     "data": {
      "text/plain": [
       "torch.Size([4, 8, 2])"
      ]
     },
     "execution_count": 44,
     "metadata": {},
     "output_type": "execute_result"
    }
   ],
   "source": [
    "\n",
    "torch.manual_seed(1337)\n",
    "B, T, C = 4, 8, 2            ## batch, time, channels\n",
    "x = torch.randn( B, T, C )\n",
    "x.shape\n"
   ]
  },
  {
   "cell_type": "markdown",
   "id": "9b186e21",
   "metadata": {},
   "source": [
    "\n",
    "Now we just look at average of all previous tokens up to token t. We do not look at future tokens. \n"
   ]
  },
  {
   "cell_type": "code",
   "execution_count": 45,
   "id": "cf857828",
   "metadata": {},
   "outputs": [],
   "source": [
    "\n",
    "## we want x[b, t] = mean_{i<=t} x[b, i]\n",
    "\n",
    "xbow = torch.zeros(  (B, T, C)  )\n",
    "for b in range(B):\n",
    "    for t in range(T):\n",
    "        xprev      = x[b, :t+1]        ## (t, C)\n",
    "        xbow[b, t] = torch.mean(  xprev, 0  )\n"
   ]
  },
  {
   "cell_type": "code",
   "execution_count": 46,
   "id": "fe9f5c45",
   "metadata": {},
   "outputs": [
    {
     "data": {
      "text/plain": [
       "tensor([[ 0.1808, -0.0700],\n",
       "        [-0.3596, -0.9152],\n",
       "        [ 0.6258,  0.0255],\n",
       "        [ 0.9545,  0.0643],\n",
       "        [ 0.3612,  1.1679],\n",
       "        [-1.3499, -0.5102],\n",
       "        [ 0.2360, -0.2398],\n",
       "        [-0.9211,  1.5433]])"
      ]
     },
     "execution_count": 46,
     "metadata": {},
     "output_type": "execute_result"
    }
   ],
   "source": [
    "x[0]"
   ]
  },
  {
   "cell_type": "code",
   "execution_count": 47,
   "id": "cd012eea",
   "metadata": {},
   "outputs": [
    {
     "data": {
      "text/plain": [
       "tensor([[ 0.1808, -0.0700],\n",
       "        [-0.0894, -0.4926],\n",
       "        [ 0.1490, -0.3199],\n",
       "        [ 0.3504, -0.2238],\n",
       "        [ 0.3525,  0.0545],\n",
       "        [ 0.0688, -0.0396],\n",
       "        [ 0.0927, -0.0682],\n",
       "        [-0.0341,  0.1332]])"
      ]
     },
     "execution_count": 47,
     "metadata": {},
     "output_type": "execute_result"
    }
   ],
   "source": [
    "xbow[0]"
   ]
  },
  {
   "cell_type": "markdown",
   "id": "a8b7309b",
   "metadata": {},
   "source": [
    "\n",
    "## Example\n",
    "\n",
    "instead of for loops, we use matrix multiplications\n"
   ]
  },
  {
   "cell_type": "code",
   "execution_count": 48,
   "id": "a9ffed80",
   "metadata": {},
   "outputs": [
    {
     "name": "stdout",
     "output_type": "stream",
     "text": [
      "a=\n",
      "tensor([[1., 1., 1.],\n",
      "        [1., 1., 1.],\n",
      "        [1., 1., 1.]])\n",
      "---------\n",
      "b=\n",
      "tensor([[2., 7.],\n",
      "        [6., 4.],\n",
      "        [6., 5.]])\n",
      "---------\n",
      "dot_product ->> c=\n",
      "tensor([[14., 16.],\n",
      "        [14., 16.],\n",
      "        [14., 16.]])\n",
      "---------\n"
     ]
    }
   ],
   "source": [
    "\n",
    "torch.manual_seed(42)\n",
    "a = torch.ones(3, 3)\n",
    "b = torch.randint(0, 10, (3, 2)).float()\n",
    "c = a @ b\n",
    "print('a=')\n",
    "print(a)\n",
    "print('---------')\n",
    "print('b=')\n",
    "print(b)\n",
    "print('---------')\n",
    "print('dot_product ->> c=')\n",
    "print(c)\n",
    "print('---------')\n"
   ]
  },
  {
   "cell_type": "markdown",
   "id": "c62e5f5e",
   "metadata": {},
   "source": [
    "\n",
    "## Masking \n"
   ]
  },
  {
   "cell_type": "code",
   "execution_count": 49,
   "id": "27958735",
   "metadata": {},
   "outputs": [
    {
     "name": "stdout",
     "output_type": "stream",
     "text": [
      "a=\n",
      "tensor([[1.0000, 0.0000, 0.0000],\n",
      "        [0.5000, 0.5000, 0.0000],\n",
      "        [0.3333, 0.3333, 0.3333]])\n",
      "---------\n",
      "b=\n",
      "tensor([[2., 7.],\n",
      "        [6., 4.],\n",
      "        [6., 5.]])\n",
      "---------\n",
      "dot_product ->> c=\n",
      "tensor([[2.0000, 7.0000],\n",
      "        [4.0000, 5.5000],\n",
      "        [4.6667, 5.3333]])\n",
      "---------\n"
     ]
    }
   ],
   "source": [
    "\n",
    "\n",
    "torch.manual_seed(42)\n",
    "a = torch.tril(  torch.ones(3, 3)    )\n",
    "a = a /torch.sum(a, 1, keepdim=True)\n",
    "b = torch.randint(0, 10, (3, 2)).float()\n",
    "c = a @ b\n",
    "print('a=')\n",
    "print(a)\n",
    "print('---------')\n",
    "print('b=')\n",
    "print(b)\n",
    "print('---------')\n",
    "print('dot_product ->> c=')\n",
    "print(c)\n",
    "print('---------')\n"
   ]
  },
  {
   "cell_type": "code",
   "execution_count": 50,
   "id": "f3c33291",
   "metadata": {},
   "outputs": [
    {
     "data": {
      "text/plain": [
       "tensor([[1.0000, 0.0000, 0.0000, 0.0000, 0.0000, 0.0000, 0.0000, 0.0000],\n",
       "        [0.5000, 0.5000, 0.0000, 0.0000, 0.0000, 0.0000, 0.0000, 0.0000],\n",
       "        [0.3333, 0.3333, 0.3333, 0.0000, 0.0000, 0.0000, 0.0000, 0.0000],\n",
       "        [0.2500, 0.2500, 0.2500, 0.2500, 0.0000, 0.0000, 0.0000, 0.0000],\n",
       "        [0.2000, 0.2000, 0.2000, 0.2000, 0.2000, 0.0000, 0.0000, 0.0000],\n",
       "        [0.1667, 0.1667, 0.1667, 0.1667, 0.1667, 0.1667, 0.0000, 0.0000],\n",
       "        [0.1429, 0.1429, 0.1429, 0.1429, 0.1429, 0.1429, 0.1429, 0.0000],\n",
       "        [0.1250, 0.1250, 0.1250, 0.1250, 0.1250, 0.1250, 0.1250, 0.1250]])"
      ]
     },
     "execution_count": 50,
     "metadata": {},
     "output_type": "execute_result"
    }
   ],
   "source": [
    "\n",
    "\n",
    "wei = torch.tril(  torch.ones(T, T)   )\n",
    "wei = wei / wei.sum(1, keepdim = True)\n",
    "wei\n"
   ]
  },
  {
   "cell_type": "code",
   "execution_count": 51,
   "id": "1bb6090b",
   "metadata": {},
   "outputs": [],
   "source": [
    "\n",
    "xbow2 = wei @ x        ## (B, T, T) @ (B, T, C)   ---->>>   (B, T, C)\n"
   ]
  },
  {
   "cell_type": "code",
   "execution_count": 52,
   "id": "c347694c",
   "metadata": {},
   "outputs": [
    {
     "data": {
      "text/plain": [
       "True"
      ]
     },
     "execution_count": 52,
     "metadata": {},
     "output_type": "execute_result"
    }
   ],
   "source": [
    "\n",
    "torch.allclose(   xbow,  xbow2   )        ## this compares that they are the same\n"
   ]
  },
  {
   "cell_type": "markdown",
   "id": "5fdef0cc",
   "metadata": {},
   "source": [
    "## Re-written in a third way (using softmax)\n",
    "\n",
    "* use this for self-attention \n",
    "\n",
    "* weighted aggreagation of tokens\n"
   ]
  },
  {
   "cell_type": "code",
   "execution_count": 53,
   "id": "362cfcea",
   "metadata": {},
   "outputs": [
    {
     "data": {
      "text/plain": [
       "True"
      ]
     },
     "execution_count": 53,
     "metadata": {},
     "output_type": "execute_result"
    }
   ],
   "source": [
    "\n",
    "tril = torch.tril(    torch.ones(T, T)    )\n",
    "wei  = torch.zeros(   (T, T)   )\n",
    "wei  = wei.masked_fill(tril == 0, float('-inf'))\n",
    "wei  = F.softmax(wei, dim=-1)\n",
    "xbow3 = wei @ x\n",
    "torch.allclose(  xbow, xbow3    )\n"
   ]
  },
  {
   "cell_type": "markdown",
   "id": "e9d4668b",
   "metadata": {},
   "source": [
    "## Self attention for one head"
   ]
  },
  {
   "cell_type": "code",
   "execution_count": 58,
   "id": "c4317a62",
   "metadata": {},
   "outputs": [
    {
     "data": {
      "text/plain": [
       "torch.Size([4, 8, 16])"
      ]
     },
     "execution_count": 58,
     "metadata": {},
     "output_type": "execute_result"
    }
   ],
   "source": [
    "\n",
    "torch.manual_seed(1337)\n",
    "B, T, C = 4, 8, 32\n",
    "x = torch.randn(B, T, C)\n",
    "\n",
    "## a single head with self-attention\n",
    "head_size = 16\n",
    "key   = nn.Linear(C, head_size, bias=False)\n",
    "query = nn.Linear(C, head_size, bias=False)\n",
    "value = nn.Linear(C, head_size, bias=False)\n",
    "\n",
    "k = key(x)           # (B, T, 16)\n",
    "q = query(x)         # (B, T, 16)\n",
    "\n",
    "## Because of batches, only transpose the last 2 dimensions\n",
    "wei = q @ k.transpose(-2, -1)        ## (B, T, 16) @ (B, 16, T)  --> (B, T, T) \n",
    "\n",
    "tril = torch.tril(    torch.ones(T, T)    )\n",
    "wei  = wei.masked_fill(tril == 0, float('-inf'))\n",
    "wei  = F.softmax(wei, dim = -1)\n",
    "\n",
    "v = value(x)\n",
    "out = wei @ v\n",
    "\n",
    "out.shape\n"
   ]
  },
  {
   "cell_type": "code",
   "execution_count": 59,
   "id": "c6c47b02",
   "metadata": {},
   "outputs": [
    {
     "data": {
      "text/plain": [
       "tensor([[[1.0000, 0.0000, 0.0000, 0.0000, 0.0000, 0.0000, 0.0000, 0.0000],\n",
       "         [0.1574, 0.8426, 0.0000, 0.0000, 0.0000, 0.0000, 0.0000, 0.0000],\n",
       "         [0.2088, 0.1646, 0.6266, 0.0000, 0.0000, 0.0000, 0.0000, 0.0000],\n",
       "         [0.5792, 0.1187, 0.1889, 0.1131, 0.0000, 0.0000, 0.0000, 0.0000],\n",
       "         [0.0294, 0.1052, 0.0469, 0.0276, 0.7909, 0.0000, 0.0000, 0.0000],\n",
       "         [0.0176, 0.2689, 0.0215, 0.0089, 0.6812, 0.0019, 0.0000, 0.0000],\n",
       "         [0.1691, 0.4066, 0.0438, 0.0416, 0.1048, 0.2012, 0.0329, 0.0000],\n",
       "         [0.0210, 0.0843, 0.0555, 0.2297, 0.0573, 0.0709, 0.2423, 0.2391]],\n",
       "\n",
       "        [[1.0000, 0.0000, 0.0000, 0.0000, 0.0000, 0.0000, 0.0000, 0.0000],\n",
       "         [0.1687, 0.8313, 0.0000, 0.0000, 0.0000, 0.0000, 0.0000, 0.0000],\n",
       "         [0.2477, 0.0514, 0.7008, 0.0000, 0.0000, 0.0000, 0.0000, 0.0000],\n",
       "         [0.4410, 0.0957, 0.3747, 0.0887, 0.0000, 0.0000, 0.0000, 0.0000],\n",
       "         [0.0069, 0.0456, 0.0300, 0.7748, 0.1427, 0.0000, 0.0000, 0.0000],\n",
       "         [0.0660, 0.0892, 0.0413, 0.6316, 0.1649, 0.0069, 0.0000, 0.0000],\n",
       "         [0.0396, 0.2288, 0.0090, 0.2000, 0.2061, 0.1949, 0.1217, 0.0000],\n",
       "         [0.3650, 0.0474, 0.0767, 0.0293, 0.3084, 0.0784, 0.0455, 0.0493]],\n",
       "\n",
       "        [[1.0000, 0.0000, 0.0000, 0.0000, 0.0000, 0.0000, 0.0000, 0.0000],\n",
       "         [0.4820, 0.5180, 0.0000, 0.0000, 0.0000, 0.0000, 0.0000, 0.0000],\n",
       "         [0.1705, 0.4550, 0.3745, 0.0000, 0.0000, 0.0000, 0.0000, 0.0000],\n",
       "         [0.0074, 0.7444, 0.0477, 0.2005, 0.0000, 0.0000, 0.0000, 0.0000],\n",
       "         [0.8359, 0.0416, 0.0525, 0.0580, 0.0119, 0.0000, 0.0000, 0.0000],\n",
       "         [0.1195, 0.2061, 0.1019, 0.1153, 0.1814, 0.2758, 0.0000, 0.0000],\n",
       "         [0.0065, 0.0589, 0.0372, 0.3063, 0.1325, 0.3209, 0.1378, 0.0000],\n",
       "         [0.1416, 0.1519, 0.0384, 0.1643, 0.1207, 0.1254, 0.0169, 0.2408]],\n",
       "\n",
       "        [[1.0000, 0.0000, 0.0000, 0.0000, 0.0000, 0.0000, 0.0000, 0.0000],\n",
       "         [0.6369, 0.3631, 0.0000, 0.0000, 0.0000, 0.0000, 0.0000, 0.0000],\n",
       "         [0.2586, 0.7376, 0.0038, 0.0000, 0.0000, 0.0000, 0.0000, 0.0000],\n",
       "         [0.4692, 0.3440, 0.1237, 0.0631, 0.0000, 0.0000, 0.0000, 0.0000],\n",
       "         [0.1865, 0.4680, 0.0353, 0.1854, 0.1248, 0.0000, 0.0000, 0.0000],\n",
       "         [0.0828, 0.7479, 0.0017, 0.0735, 0.0712, 0.0228, 0.0000, 0.0000],\n",
       "         [0.0522, 0.0517, 0.0961, 0.0375, 0.1024, 0.5730, 0.0872, 0.0000],\n",
       "         [0.0306, 0.2728, 0.0333, 0.1409, 0.1414, 0.0582, 0.0825, 0.2402]]],\n",
       "       grad_fn=<SoftmaxBackward0>)"
      ]
     },
     "execution_count": 59,
     "metadata": {},
     "output_type": "execute_result"
    }
   ],
   "source": [
    "wei"
   ]
  },
  {
   "cell_type": "code",
   "execution_count": null,
   "id": "55882764",
   "metadata": {},
   "outputs": [],
   "source": []
  },
  {
   "cell_type": "code",
   "execution_count": null,
   "id": "80ef8948",
   "metadata": {},
   "outputs": [],
   "source": []
  },
  {
   "cell_type": "code",
   "execution_count": null,
   "id": "4df76a27",
   "metadata": {},
   "outputs": [],
   "source": []
  },
  {
   "cell_type": "code",
   "execution_count": null,
   "id": "1c5cb8fc",
   "metadata": {},
   "outputs": [],
   "source": []
  },
  {
   "cell_type": "code",
   "execution_count": null,
   "id": "6de7766a",
   "metadata": {},
   "outputs": [],
   "source": []
  },
  {
   "cell_type": "code",
   "execution_count": null,
   "id": "5825ed0d",
   "metadata": {},
   "outputs": [],
   "source": []
  },
  {
   "cell_type": "code",
   "execution_count": null,
   "id": "7244e76d",
   "metadata": {},
   "outputs": [],
   "source": []
  },
  {
   "cell_type": "code",
   "execution_count": null,
   "id": "cfb88430",
   "metadata": {},
   "outputs": [],
   "source": []
  },
  {
   "cell_type": "code",
   "execution_count": null,
   "id": "1776ad8c",
   "metadata": {},
   "outputs": [],
   "source": []
  },
  {
   "cell_type": "code",
   "execution_count": null,
   "id": "889792f3",
   "metadata": {},
   "outputs": [],
   "source": []
  },
  {
   "cell_type": "code",
   "execution_count": null,
   "id": "3247f678",
   "metadata": {},
   "outputs": [],
   "source": []
  },
  {
   "cell_type": "code",
   "execution_count": null,
   "id": "c3f1f6a1",
   "metadata": {},
   "outputs": [],
   "source": []
  },
  {
   "cell_type": "code",
   "execution_count": null,
   "id": "3f2e3224",
   "metadata": {},
   "outputs": [],
   "source": []
  }
 ],
 "metadata": {
  "kernelspec": {
   "display_name": "Python 3 (ipykernel)",
   "language": "python",
   "name": "python3"
  },
  "language_info": {
   "codemirror_mode": {
    "name": "ipython",
    "version": 3
   },
   "file_extension": ".py",
   "mimetype": "text/x-python",
   "name": "python",
   "nbconvert_exporter": "python",
   "pygments_lexer": "ipython3",
   "version": "3.7.16"
  }
 },
 "nbformat": 4,
 "nbformat_minor": 5
}
